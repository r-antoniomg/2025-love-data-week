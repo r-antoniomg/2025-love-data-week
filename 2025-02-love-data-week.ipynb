{
 "cells": [
  {
   "cell_type": "markdown",
   "metadata": {
    "id": "4WJOLrGEBWiL"
   },
   "source": [
    "# Love Data Week 2025 : learn to make your own Spotify wrapped\n",
    "Date Created : 2025-02-07  \n",
    "Workshop delivered on : 2025-02-13\n",
    "\n",
    "Jupyter notebook by : R. Antonio Muñoz Gómez (Cataloguing and Metadata Librarian, University of Waterloo)\n",
    "\n",
    "Workshop facilitated by : Anneliese Eber (Research Data Management Librarian, University of Waterloo) and R. Antonio Muñoz Gómez (Cataloguing and Metadata Librarian, University of Waterloo)"
   ]
  },
  {
   "cell_type": "markdown",
   "metadata": {
    "id": "sfxHgRAUuWW7"
   },
   "source": [
    "# Table of contents"
   ]
  },
  {
   "cell_type": "markdown",
   "metadata": {
    "id": "TyKPRjtAua3c"
   },
   "source": [
    "1. Prep work  \n",
    " 1.1 Request your data from Spotify  \n",
    " 1.2 Place your files in the same directory as the Jupyter notebook  \n",
    " 1.3 Import and/or install libraries  \n",
    " 1.4 Set a `file_name` variable for the files to be read  \n",
    " 1.5 Create a pandas `DataFrame` and add the `.json` data to it  \n",
    "\n",
    "2. Cleaning, evaluating, and analyzing the data  \n",
    " 2.1 Inspect the `DataFrame` contents  \n",
    " 2.2 Convert the `timestamp` column to `datetime` format with the local time zone  \n",
    " 2.3 Extract the year from the `timestamp` onto a new `year` column  \n",
    " 2.4 Calculate the total minutes played in the year  \n",
    " 2.5 Count the distinct songs listened to in the year  \n",
    " 2.6 Obtain the day of the year on which you listened to the most music\n",
    "\n",
    "3. Visualization  \n",
    " 3.1 Word cloud with top 50 words in song titles  \n",
    " 3.2 Bar chart with top ten artists listened to in a given year (2024)  \n",
    " 3.3 Bar charts with top ten artists listened to in a given year (2024) broken down by month\n",
    "\n",
    "4. Exporting files  \n",
    " 4.1 Export the `DataFrame` as `.csv` for further exploration and analysis  \n",
    " 4.2 Export the word cloud image to `.jpg` file  \n",
    " 4.3 Export all the visualizations into a `.pdf` file and as separate `.jpg` files\n",
    "\n",
    "5. References\n",
    " 5.1 Artificial Intelligence Disclosure (AID) Statement"
   ]
  },
  {
   "cell_type": "markdown",
   "metadata": {
    "id": "J_XCi_E9CUoH"
   },
   "source": [
    "# 1. Prep work\n",
    "\n",
    "\n",
    "\n",
    "\n"
   ]
  },
  {
   "cell_type": "markdown",
   "metadata": {
    "id": "DgXdOqTRD6Bn"
   },
   "source": [
    "## Step 1.1 : Request your data from Spotify\n",
    "\n",
    "During the live workshop demo, we used the data requested and obtained by the facilitators.\n",
    "\n",
    "In order to create your own Spotify wrapped, you will need to request your data directly from Spotify by going to [Spotify's Account privacy page](https://www.spotify.com/ca-en/account/privacy/) and request your **extended streaming history** data. (Note: website last accessed 2025-02-06).\n",
    "\n",
    "You will receive an email to confirm your request, and a separate email to confirm that your data is ready for download.\n",
    "\n",
    "The download will include various files, including a README file in `.pdf` format that explains the data.\n",
    "\n",
    "The files that you will use will be in [JSON (JavaScript Object Notation)](https://www.json.org/json-en.html) format.\n",
    "\n",
    "The files will include data for Audio and for Video streaming activity. For this workshop we will only be using the Audio streaming activity."
   ]
  },
  {
   "cell_type": "markdown",
   "metadata": {
    "id": "LElDRIQKFXlm"
   },
   "source": [
    "## Step 1.2 : Place your files in the same directory as the Jupyter notebook\n",
    "\n",
    "The Python code in this notebook assumes that all your files are saved in the same directory as the Jupyter notebook itself."
   ]
  },
  {
   "cell_type": "markdown",
   "metadata": {
    "id": "73ZC_ntNbU0T"
   },
   "source": [
    "## Step 1.3 : Import and/or install libraries\n",
    "\n",
    "In programming, 'libraries' refer to code that someone else has written and made available for re-use. Rather than having to write all that code from scratch, you can use it by 'importing' the libraries into your own code.\n",
    "\n",
    "To successfully import a library, first you must make sure that it has been installed.\n",
    "\n",
    "The code below will try to import the following libraries (follow the links if you want to learn more about each of these libraries and what they are used for):\n",
    "- [pandas](https://pandas.pydata.org/) (Python Data Analysis Library)\n",
    "- [glob](https://en.wikipedia.org/wiki/Glob_(programming))\n",
    "- [pytz](https://github.com/stub42/pytz/blob/master/src/README.rst)\n",
    "- [Matplotlib](https://matplotlib.org/)\n",
    "- [collections](https://docs.python.org/3/library/collections.html)\n",
    "- [wordcloud](https://pypi.org/project/wordcloud/)\n",
    "- [nltk](https://www.nltk.org/) (Natural Language Toolkit)\n",
    "\n",
    "If these libraries cannot be found in the system, the code will install them and then import them."
   ]
  },
  {
   "cell_type": "code",
   "execution_count": null,
   "metadata": {
    "id": "hE_zbZQcY3ff"
   },
   "outputs": [],
   "source": [
    "try:\n",
    "    import pandas as pd\n",
    "except:\n",
    "    !pip install pandas\n",
    "    import pandas as pd\n",
    "\n",
    "try:\n",
    "    import glob\n",
    "except:\n",
    "    !pip install glob\n",
    "    import glob\n",
    "\n",
    "try:\n",
    "    import pytz\n",
    "except:\n",
    "    !pip install pytz\n",
    "    import pytz\n",
    "\n",
    "try:\n",
    "    import matplotlib as plt\n",
    "except:\n",
    "    !pip install matplotlib\n",
    "    import matplotlib as plt\n",
    "\n",
    "try:\n",
    "    import collections\n",
    "    from collections import Counter\n",
    "except:\n",
    "    !pip install collections\n",
    "    import collections\n",
    "    from collections import Counter\n",
    "\n",
    "try:\n",
    "    import wordcloud\n",
    "    from wordcloud import WordCloud\n",
    "except:\n",
    "    !pip install wordcloud\n",
    "    from wordcloud import WordCloud\n",
    "\n",
    "try:\n",
    "    import nltk\n",
    "    from nltk.corpus import stopwords\n",
    "except:\n",
    "    !pip install nltk\n",
    "    import nltk\n",
    "    from nltk.corpus import stopwords"
   ]
  },
  {
   "cell_type": "markdown",
   "metadata": {
    "id": "Wwx1S4bD3CT4"
   },
   "source": [
    "## Step 1.4 : Set a `file_name` variable for the file(s) to be read\n",
    "\n",
    "The following code will look for all the files with the `.json` extension so that we can work with the data."
   ]
  },
  {
   "cell_type": "code",
   "execution_count": null,
   "metadata": {
    "id": "T36hF1D63R3O"
   },
   "outputs": [],
   "source": [
    "file_name = '*.json'"
   ]
  },
  {
   "cell_type": "markdown",
   "metadata": {
    "id": "N3Zy2Nnk35-Q"
   },
   "source": [
    "## Step 1.5 : Create a pandas `DataFrame` and add the `.json` data to it\n",
    "\n",
    "In the pandas library, a `DataFrame` refers to a table with data.\n",
    "\n",
    "- Create a main `DataFrame` called (arbitrarily) `df` onto which all the data from the `.json` files will be added.\n",
    "- Iterate through each of the `.json` files performing the following tasks:\n",
    " - Read the `.json` file and temporarily store its contents on a `temp` `DataFrame`\n",
    " - Transfer the contents of `temp` onto the main `DataFrame`\n",
    "\n",
    "After the above actions are completed, the code will print the total number of rows and columns in the `DataFrame`."
   ]
  },
  {
   "cell_type": "code",
   "execution_count": null,
   "metadata": {
    "id": "VahliIoc5FEH"
   },
   "outputs": [],
   "source": [
    "df = pd.DataFrame()\n",
    "\n",
    "for file in glob.glob(file_name):\n",
    "  temp = pd.read_json(file)\n",
    "  df = pd.concat([df, temp])\n",
    "\n",
    "print(df.shape)"
   ]
  },
  {
   "cell_type": "markdown",
   "metadata": {
    "id": "nGGr_FPCGbMA"
   },
   "source": [
    "# 2. Cleaning, evaluating, and analyzing the data"
   ]
  },
  {
   "cell_type": "markdown",
   "metadata": {
    "id": "aWUsrADS64pg"
   },
   "source": [
    "## Step 2.1 : Inspect the `DataFrame` contents\n",
    "\n",
    "The following code will display a portion of the `DataFrame` contents. This is useful to start analyzing the contents and get ideas for what kinds of cleanup may be required, as well as which analysis may be possible.\n",
    "\n",
    "**NOTE:** The following code specifically excludes one column from display (`ip_addr`). The reason is that the Jupyter notebook was designed for instructional purposes, with the instructors using their personal data while sharing screens. If you would like to see all the available columns, simply replace all the following code with the command `df`. In this notebook, every time that we display data from our `DataFrame`, we have used the `excludes` option. The three lines of code in the next cell can be collectively replaced with the basic `df` as needed."
   ]
  },
  {
   "cell_type": "code",
   "execution_count": null,
   "metadata": {
    "id": "ECovSm8x69I6"
   },
   "outputs": [],
   "source": [
    "excludes = ['ip_addr']\n",
    "df_excludes = df.drop(columns=excludes).head()\n",
    "df_excludes"
   ]
  },
  {
   "cell_type": "markdown",
   "metadata": {
    "id": "n8LjXhidJ_iC"
   },
   "source": [
    "## Step 2.2 : Convert the timestamp column to `datetime` format with local time zone\n",
    "\n",
    "The timestamp (`ts`) column as obtained from the `.json` files is not formatted as a `datetime` column, but as a text string. This impacts the way in which the column can be analyzed.\n",
    "\n",
    "The following code will:\n",
    "- Convert the data in the `ts` column from string to `datetime` format\n",
    "- Change Spotify's default [UTC time zone](https://en.wikipedia.org/wiki/Coordinated_Universal_Time) to Canadian Eastern time\n",
    "- Sort the `DataFrame` by time zone column from oldest to newest\n",
    "- Display the resulting changes (excluding the `ip_addr` column like in Step 4 above)"
   ]
  },
  {
   "cell_type": "code",
   "execution_count": null,
   "metadata": {
    "id": "2V_2VZvnIR4E"
   },
   "outputs": [],
   "source": [
    "df['ts'] = pd.to_datetime(df['ts'], format='%Y-%m-%dT%H:%M:%SZ', utc=True)\n",
    "\n",
    "local_tz = pytz.timezone('America/Toronto')\n",
    "df['ts'] = df['ts'].dt.tz_convert(local_tz)\n",
    "\n",
    "df.sort_values(by='ts', inplace=True)\n",
    "\n",
    "df_excludes = df.drop(columns=excludes).head()\n",
    "df_excludes"
   ]
  },
  {
   "cell_type": "markdown",
   "metadata": {
    "id": "WoKmDNYuE5Qr"
   },
   "source": [
    "## Step 2.3 : Extract the year from the timestamp onto a new `year` column"
   ]
  },
  {
   "cell_type": "code",
   "execution_count": null,
   "metadata": {
    "id": "mZfdsS7HFAWL"
   },
   "outputs": [],
   "source": [
    "df['year'] = df['ts'].dt.year\n",
    "df[['ts' , 'year']]"
   ]
  },
  {
   "cell_type": "markdown",
   "metadata": {
    "id": "VtAliBdK9872"
   },
   "source": [
    "## Step 2.4 : Calculate the total minutes played in the year\n",
    "\n",
    "Given a specific year:\n",
    "- Add all the values from the `ms_played` column\n",
    "- Convert from ms to min (dividing by 60000)\n",
    "- Round the number to the next integer\n",
    "- Print a message indicating the total number of minutes listened\n",
    "\n",
    "**NOTE:** In the code below, the year is set to **2024**, but can be changed if/as needed by updating the code as in the following example.\n",
    "\n",
    "### Before\n",
    "`total_ms = df[df['year']==`**2024**`]['ms_played'].sum()`\n",
    "### After\n",
    "`total_ms = df[df['year']==`**2025**`]['ms_played'].sum()`"
   ]
  },
  {
   "cell_type": "code",
   "execution_count": null,
   "metadata": {
    "id": "PFalOcx7-Wjt"
   },
   "outputs": [],
   "source": [
    "total_ms = df[df['year']==2024]['ms_played'].sum()\n",
    "total_minutes = total_ms / 60000\n",
    "total_minutes = round(total_minutes)\n",
    "print('You listened for ' + str(total_minutes) + ' minutes this year')"
   ]
  },
  {
   "cell_type": "markdown",
   "metadata": {
    "id": "h9o1CJGYCvg0"
   },
   "source": [
    "## Step 2.5 : Count the distinct songs listened to in the year\n",
    "\n",
    "Given a specific year:\n",
    "- Count the distinct values in the `spotify_track_uri` column\n",
    "\n",
    "**NOTE:** In the code below, the year is set to **2024**, but can be changed if/as needed by updating the code as in the following example.\n",
    "\n",
    "### Before\n",
    "`distinct_songs = df[df['year']==`**2024**`]['spotify_track_uri'].nunique()`\n",
    "### After\n",
    "`distinct_songs = df[df['year']==`**2025**`]['spotify_track_uri'].nunique()`"
   ]
  },
  {
   "cell_type": "code",
   "execution_count": null,
   "metadata": {
    "id": "wSDwKf4cCuRw"
   },
   "outputs": [],
   "source": [
    "distinct_songs = df[df['year']==2024]['spotify_track_uri'].nunique()\n",
    "print('You listened to ' + str(distinct_songs) + ' songs this year')"
   ]
  },
  {
   "cell_type": "markdown",
   "metadata": {
    "id": "BdE3PKXdOuez"
   },
   "source": [
    "## Step 2.6 : Obtain the top ten artists played in a given year\n",
    "\n",
    "This code does the following operations:\n",
    "- Filters data by a given year\n",
    "- Counts the number of times each artist name (column = `master_metadata_album_artist_name`)appears in the `DataFrame`\n",
    "- Takes the top ten results\n",
    "- Sorts the results in descending order\n",
    "\n",
    "**NOTE:** The year can be changed based on your own data set characteristics. Simply change the year in the code below. You can also change the total number of results that you get by updating the code as follows:\n",
    "### Before\n",
    "`df[df['year']==`**2024**`].groupby('master_metadata_album_artist_name')['master_metadata_album_artist_name'].count().sort_values(ascending=False).head(`**10**`)`\n",
    "### After\n",
    "`df[df['year']==`**2025**`].groupby('master_metadata_album_artist_name')['master_metadata_album_artist_name'].count().sort_values(ascending=False).head(`**8**`)`"
   ]
  },
  {
   "cell_type": "code",
   "execution_count": null,
   "metadata": {
    "id": "FQi_KtsTPxgr"
   },
   "outputs": [],
   "source": [
    "df[df['year']==2024].groupby('master_metadata_album_artist_name')['master_metadata_album_artist_name'].count().sort_values(ascending=False).head(10)"
   ]
  },
  {
   "cell_type": "markdown",
   "metadata": {
    "id": "vOjzZZBMG8YK"
   },
   "source": [
    "## STEP 2.7 : Obtain the top ten artists played in a given year broken down by month"
   ]
  },
  {
   "cell_type": "markdown",
   "metadata": {},
   "source": [
    "The following code defines a function `called top_artists_by_month` which takes two arguments:\n",
    "1) the `DataFrame`\n",
    "2) the year you are interested in\n",
    "\n",
    "This function will:\n",
    "\n",
    "- Filter the data by a specified year (example, 2024)\n",
    "- Extract the month from the timestamp\n",
    "- Group the data by month and artist, then count the occurrences\n",
    "- Sort by month and count in descending order\n",
    "- Get the top 10 artists for each month"
   ]
  },
  {
   "cell_type": "code",
   "execution_count": null,
   "metadata": {
    "id": "MR65OIUFHAOR"
   },
   "outputs": [],
   "source": [
    "def top_artists_by_month(df, year):\n",
    "  df_year = df[df['year'] == year]\n",
    "\n",
    "  df_year['month'] = df_year['ts'].dt.month\n",
    "\n",
    "  top_artists = df_year.groupby(['month', 'master_metadata_album_artist_name'])['master_metadata_album_artist_name'].count().reset_index(name='count')\n",
    "\n",
    "  top_artists = top_artists.sort_values(['month', 'count'], ascending=[True, False])\n",
    "\n",
    "  result = {}\n",
    "  for month in top_artists['month'].unique():\n",
    "    result[month] = list(top_artists[top_artists['month'] == month]['master_metadata_album_artist_name'].head(10))\n",
    "\n",
    "  return result"
   ]
  },
  {
   "cell_type": "markdown",
   "metadata": {},
   "source": [
    "The following cell runs the function above for the year 2024. You can change the `year` argument in the function as in the following example:\n",
    "\n",
    "### Before\n",
    "`top_artists_`**2024**` = top_artists_by_month(df, `**2024**`)\n",
    "### After\n",
    "`top_artists_`**2025**` = top_artists_by_month(df, `**2025**`)"
   ]
  },
  {
   "cell_type": "code",
   "execution_count": null,
   "metadata": {},
   "outputs": [],
   "source": [
    "top_artists_2024 = top_artists_by_month(df, 2024)\n",
    "top_artists_2024"
   ]
  },
  {
   "cell_type": "markdown",
   "metadata": {
    "id": "nEtmP_2OaA_q"
   },
   "source": [
    "## Step 2.8 : Obtain the day of the year on which you listened to the most music\n",
    "\n",
    "Given a year, the following code defines a function called `calculate_highest_listening_day` which takes two arguments:\n",
    "1) the `DataFrame`\n",
    "2) the year\n",
    "\n",
    "This function will:\n",
    "\n",
    "- Calculate the amount of ms played each day\n",
    "- Convert the amount from ms to minutes, rounding to the next integer\n",
    "- Pick the day with the highest value\n",
    "- Print the message 'Your biggest listening day was [date] with [total] minutes'.\n",
    "\n",
    "**NOTE:** The year can be changed based on your own data set characteristics. Simply change the year in the code below. Please note you should **ONLY CHANGE THE ARGUMENT IN THE LAST LINE OF CODE**:\n",
    "### Before\n",
    "`calculate_highest_listening_day(df, `**2024**`)`\n",
    "### After\n",
    "`calculate_highest_listening_day(df, `**2025**`)`"
   ]
  },
  {
   "cell_type": "code",
   "execution_count": null,
   "metadata": {
    "id": "7A-CevZJCK_0"
   },
   "outputs": [],
   "source": [
    "df['date'] = df['ts'].dt.date\n",
    "\n",
    "def calculate_highest_listening_day(df, year):\n",
    "    df_filtered = df[df['ts'].dt.year == year]\n",
    "\n",
    "    total_ms_per_day = df_filtered.groupby('date')['ms_played'].sum().reset_index()\n",
    "\n",
    "    total_ms_per_day['minutes'] = round(total_ms_per_day['ms_played'] / 60000)\n",
    "\n",
    "    max_minutes_day = total_ms_per_day.loc[total_ms_per_day['minutes'].idxmax()]\n",
    "\n",
    "    print(f\"Your biggest listening day in {year} was {max_minutes_day['date']} with {max_minutes_day['minutes']} minutes.\")\n",
    "\n",
    "calculate_highest_listening_day(df, 2024)"
   ]
  },
  {
   "cell_type": "markdown",
   "metadata": {
    "id": "DFK8BNLYrVR3"
   },
   "source": [
    "# 3. Visualization"
   ]
  },
  {
   "cell_type": "markdown",
   "metadata": {
    "id": "I5a_c_P8rZLU"
   },
   "source": [
    "## Example 3.1 : Word cloud with top 50 words of song titles"
   ]
  },
  {
   "cell_type": "markdown",
   "metadata": {},
   "source": [
    "Before we count the top 50 words, some cleanup is required.\n",
    "\n",
    "### Removing stopwords\n",
    "- Stopwords are words that are excluded from the frequency analysis. Usually these are words that have high frequency in a language but may have little value for the purpose of analysis (for example, articles). The following code will download existing sets of common stopwords for English, Spanish, and French (the predominant languages present in the data set used for the workshop as an example).\n",
    "### Normalizing text\n",
    "- There are different ways to normalize text. In this example, all the words are converted to lowercase. Otherwise, they would be counted separately (e.g. 'happy' and 'Happy' would be counted as two different words)\n",
    "### Removing punctuation"
   ]
  },
  {
   "cell_type": "code",
   "execution_count": null,
   "metadata": {
    "id": "1RBuAr2U6Cxo"
   },
   "outputs": [],
   "source": [
    "import matplotlib.pyplot as plt\n",
    "\n",
    "try:\n",
    "    stop_words = set(stopwords.words('english'))\n",
    "    stop_words.update(set(stopwords.words('spanish')))\n",
    "    stop_words.update(set(stopwords.words('french')))\n",
    "except LookupError:\n",
    "    nltk.download('stopwords')\n",
    "    stop_words = set(stopwords.words('english'))\n",
    "    stop_words.update(set(stopwords.words('french')))\n",
    "\n",
    "text = ' '.join(df['master_metadata_track_name'].astype(str).tolist())\n",
    "\n",
    "words = text.lower().split()\n",
    "\n",
    "words = [word for word in words if word.isalnum() and word not in stop_words]"
   ]
  },
  {
   "cell_type": "markdown",
   "metadata": {},
   "source": [
    "The following code will:\n",
    "\n",
    "- Count all the distinct words in the `master_metadata_track_name` column (except stopwords)\n",
    "- Identify the top 50\n",
    "- Produce a word cloud\n",
    "\n",
    "**NOTE:** The number of words in your wordcloud can be changed in the code as in the following example:\n",
    "### Before\n",
    "`most_common_words = word_counts.most_common(`**50**`)`\n",
    "### After\n",
    "`most_common_words = word_counts.most_common(`**100**`)`"
   ]
  },
  {
   "cell_type": "code",
   "execution_count": null,
   "metadata": {},
   "outputs": [],
   "source": [
    "word_counts = Counter(words)\n",
    "\n",
    "most_common_words = word_counts.most_common(50)\n",
    "\n",
    "wordcloud = WordCloud(width=800, height=400, background_color='white').generate_from_frequencies(dict(most_common_words))\n",
    "\n",
    "plt.figure(figsize=(10, 5), facecolor=None)\n",
    "plt.imshow(wordcloud)\n",
    "plt.axis(\"off\")\n",
    "plt.tight_layout(pad=0)\n",
    "plt.show()"
   ]
  },
  {
   "cell_type": "markdown",
   "metadata": {
    "id": "93mNcdckrthO"
   },
   "source": [
    "## Example 3.2 : Bar chart with top ten artists listened to in a given year (2024)"
   ]
  },
  {
   "cell_type": "code",
   "execution_count": null,
   "metadata": {
    "id": "0c6oHzX2Fm3q"
   },
   "outputs": [],
   "source": [
    "top_ten_artists = df[df['year']==2024].groupby('master_metadata_album_artist_name')['master_metadata_album_artist_name'].count().sort_values(ascending=False).head(10)\n",
    "\n",
    "artists = top_ten_artists.index.tolist()\n",
    "counts = top_ten_artists.values.tolist()\n",
    "\n",
    "plt.figure(figsize=(10, 6))\n",
    "plt.barh(artists, counts, color='skyblue')\n",
    "plt.xlabel('Number of Times Listened')\n",
    "plt.ylabel('Artist Name')\n",
    "plt.title('Top Ten Artists of the Year')\n",
    "\n",
    "for i, v in enumerate(counts):\n",
    "    plt.text(v, i, str(v), color='black', va='center')\n",
    "\n",
    "plt.gca().invert_yaxis()\n",
    "plt.tight_layout()\n",
    "plt.show()"
   ]
  },
  {
   "cell_type": "markdown",
   "metadata": {
    "id": "vqbMObtNr8jr"
   },
   "source": [
    "## Example 3.3 : Bar charts for top ten artists in a given year (2024) broken down by month\n"
   ]
  },
  {
   "cell_type": "code",
   "execution_count": null,
   "metadata": {
    "id": "LxB11IOJI6v5"
   },
   "outputs": [],
   "source": [
    "month_names = {\n",
    "    1: 'January', 2: 'February', 3: 'March', 4: 'April', 5: 'May', 6: 'June',\n",
    "    7: 'July', 8: 'August', 9: 'September', 10: 'October', 11: 'November', 12: 'December'\n",
    "}\n",
    "\n",
    "for month, artists in top_artists_2024.items():\n",
    "    artist_counts = df[df['ts'].dt.month == month].groupby('master_metadata_album_artist_name')['master_metadata_album_artist_name'].count().sort_values(ascending=False).head(10)\n",
    "\n",
    "    artists = artist_counts.index.tolist()\n",
    "    counts = artist_counts.values.tolist()\n",
    "\n",
    "    plt.figure(figsize=(10, 6))\n",
    "    plt.barh(artists, counts, color='skyblue')\n",
    "    plt.xlabel('Number of Times Listened')\n",
    "    plt.ylabel('Artist Name')\n",
    "    plt.title(f'Top ten artists by month - {month_names[month]}')\n",
    "\n",
    "    for i, v in enumerate(counts):\n",
    "        plt.text(v, i, str(v), color='black', va='center')\n",
    "\n",
    "    plt.gca().invert_yaxis()\n",
    "    plt.tight_layout()\n",
    "    plt.show()"
   ]
  },
  {
   "cell_type": "markdown",
   "metadata": {
    "id": "DmdbSmHk_nQx"
   },
   "source": [
    "# 4. Exporting files"
   ]
  },
  {
   "cell_type": "markdown",
   "metadata": {
    "id": "-G4w0Jbe_upF"
   },
   "source": [
    "## Step 4.1 : Export the `DataFrame` as `.csv` for further exploration and analysis\n",
    "\n",
    "In the code below, the column called `ip_addr` is excluded from the export. The data is saved into a `.csv` file with name `spotify-data.csv`"
   ]
  },
  {
   "cell_type": "code",
   "execution_count": null,
   "metadata": {
    "id": "FF283EIvLUP7"
   },
   "outputs": [],
   "source": [
    "df.drop(columns=['ip_addr']).to_csv('spotify-data.csv', index=False)"
   ]
  },
  {
   "cell_type": "markdown",
   "metadata": {
    "id": "UmEXvJfAAIi1"
   },
   "source": [
    "## Step 4.2 : Export the word cloud image to `.jpg` file\n",
    "\n",
    "The output will be a `.jpg` file with file name `spotify-wordcloud.jpg`"
   ]
  },
  {
   "cell_type": "code",
   "execution_count": null,
   "metadata": {
    "id": "0LcFmgZAsb7v"
   },
   "outputs": [],
   "source": [
    "wordcloud.to_file('spotify-wordcloud.jpg')"
   ]
  },
  {
   "cell_type": "markdown",
   "metadata": {
    "id": "LfsH-VR8sSFN"
   },
   "source": [
    "## Step 4.3 : Export all the visualizations into a `.pdf` file and as separate `.jpg` files"
   ]
  },
  {
   "cell_type": "code",
   "execution_count": null,
   "metadata": {
    "id": "rVGU7m6I-AAx"
   },
   "outputs": [],
   "source": [
    "from matplotlib.backends.backend_pdf import PdfPages\n",
    "\n",
    "pdf_filename = 'spotify-analysis.pdf'\n",
    "\n",
    "with PdfPages(pdf_filename) as pdf:\n",
    "\n",
    "    fig = plt.figure(figsize=(10, 5), facecolor=None)\n",
    "    plt.imshow(wordcloud)\n",
    "    plt.axis(\"off\")\n",
    "    plt.tight_layout(pad=0)\n",
    "    pdf.savefig(fig)\n",
    "    plt.close(fig)\n",
    "\n",
    "    fig, ax = plt.subplots(figsize=(10, 6))\n",
    "    ax.barh(artists, counts, color='skyblue')\n",
    "    ax.set_xlabel('Number of Times Listened')\n",
    "    ax.set_ylabel('Artist Name')\n",
    "    ax.set_title('Top Ten Artists of the Year')\n",
    "\n",
    "    for i, v in enumerate(counts):\n",
    "        ax.text(v, i, str(v), color='black', va='center')\n",
    "\n",
    "    ax.invert_yaxis()\n",
    "    plt.tight_layout()\n",
    "    pdf.savefig(fig)\n",
    "    plt.close(fig)\n",
    "\n",
    "    plt.figure(figsize=(10, 6))\n",
    "    plt.barh(artists, counts, color='skyblue')\n",
    "    plt.xlabel('Number of Times Listened')\n",
    "    plt.ylabel('Artist Name')\n",
    "    plt.title('Top Ten Artists of the Year')\n",
    "    for i, v in enumerate(counts):\n",
    "        plt.text(v, i, str(v), color='black', va='center')\n",
    "    plt.gca().invert_yaxis()\n",
    "    plt.tight_layout()\n",
    "    plt.savefig('spotify-top-ten-artists.jpg')\n",
    "    plt.close()\n",
    "\n",
    "    for month, artists in top_artists_2024.items():\n",
    "      artist_counts = df[df['ts'].dt.month == month].groupby('master_metadata_album_artist_name')['master_metadata_album_artist_name'].count().sort_values(ascending=False).head(10)\n",
    "      artists_month = artist_counts.index.tolist()\n",
    "      counts_month = artist_counts.values.tolist()\n",
    "\n",
    "      fig, ax = plt.subplots(figsize=(10, 6))\n",
    "      ax.barh(artists_month, counts_month, color='skyblue')\n",
    "      ax.set_xlabel('Number of Times Listened')\n",
    "      ax.set_ylabel('Artist Name')\n",
    "      ax.set_title(f'Top ten artists by month - {month_names[month]}')\n",
    "\n",
    "      for i, v in enumerate(counts_month):\n",
    "          ax.text(v, i, str(v), color='black', va='center')\n",
    "\n",
    "      ax.invert_yaxis()\n",
    "      plt.tight_layout()\n",
    "      pdf.savefig(fig)\n",
    "      plt.close(fig)\n",
    "\n",
    "      plt.figure(figsize=(10, 6))\n",
    "      plt.barh(artists_month, counts_month, color='skyblue')\n",
    "      plt.xlabel('Number of Times Listened')\n",
    "      plt.ylabel('Artist Name')\n",
    "      plt.title(f'Top ten artists by month - {month_names[month]}')\n",
    "      for i, v in enumerate(counts_month):\n",
    "          plt.text(v, i, str(v), color='black', va='center')\n",
    "\n",
    "      plt.gca().invert_yaxis()\n",
    "      plt.tight_layout()\n",
    "      plt.savefig(f'spotify-top-ten-artists-{month_names[month]}.jpg')\n",
    "      plt.close()\n",
    "\n",
    "print(f\"PDF file '{pdf_filename}' and .jpg files for monthly top ten artists created successfully.\")"
   ]
  },
  {
   "cell_type": "markdown",
   "metadata": {
    "id": "8Blw2fmnZERe"
   },
   "source": [
    "# 5. References\n",
    "\n",
    "Data Liam. (2024, October 4). _How To Analyze Your Own Spotify Streaming Data in Python_ [Video recording]. https://youtu.be/OLxqUuiwO_g?si=zWTOrbI96g5gGaeS\n",
    "\n",
    "Khan, F. (2023). _Unveiling Sentiments: Analyzing BBC Interview Comments_. GitHub. https://github.com/furqaan12/Unveiling-Sentiments-Analyzing-BBC-Interview-Comments"
   ]
  },
  {
   "cell_type": "markdown",
   "metadata": {
    "id": "ctpe-PY5AE03"
   },
   "source": [
    "## 5.1 Artificial Intelligence Disclosure [(AID) Statement](https://doi.org/10.48550/arXiv.2408.01904)\n",
    "\n",
    "_Artificial Intelligence Tools_ : Gemini (no specified version) and Microsoft Copilot (University of Waterloo institutional instance). _Execution_ : Gemini and Microsoft Copilot were used to write and troubleshoot portions of the Python code in this Jupyter notebook."
   ]
  }
 ],
 "metadata": {
  "colab": {
   "provenance": [],
   "toc_visible": true
  },
  "kernelspec": {
   "display_name": "Python 3 (ipykernel)",
   "language": "python",
   "name": "python3"
  },
  "language_info": {
   "codemirror_mode": {
    "name": "ipython",
    "version": 3
   },
   "file_extension": ".py",
   "mimetype": "text/x-python",
   "name": "python",
   "nbconvert_exporter": "python",
   "pygments_lexer": "ipython3",
   "version": "3.12.2"
  }
 },
 "nbformat": 4,
 "nbformat_minor": 4
}
